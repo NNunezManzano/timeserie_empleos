{
 "cells": [
  {
   "cell_type": "markdown",
   "id": "45e47b6a-cf10-48e2-9bf4-ccdc8778aa95",
   "metadata": {
    "jp-MarkdownHeadingCollapsed": true,
    "tags": []
   },
   "source": [
    "# Dependencias"
   ]
  },
  {
   "cell_type": "code",
   "execution_count": 99,
   "id": "3737d6f4-8560-4d30-895f-3c9e99fb806f",
   "metadata": {},
   "outputs": [],
   "source": [
    "import pandas as pd\n",
    "import numpy as np\n",
    "\n",
    "import matplotlib.pyplot as plt\n",
    "\n",
    "from datetime import datetime\n",
    "\n",
    "import warnings\n",
    "warnings.filterwarnings(\"ignore\")"
   ]
  },
  {
   "cell_type": "markdown",
   "id": "964d1f57-9ad5-4d69-bc1c-1f6c08f6623c",
   "metadata": {
    "tags": []
   },
   "source": [
    "# Dataset"
   ]
  },
  {
   "cell_type": "code",
   "execution_count": 54,
   "id": "69f02915-e1c4-4b1e-900e-48484b20f736",
   "metadata": {},
   "outputs": [],
   "source": [
    "data = pd.read_csv(\"./empleos_bsas_202303300007.csv\")"
   ]
  },
  {
   "cell_type": "code",
   "execution_count": 55,
   "id": "08601a3f-6855-4c97-8c0e-36c756f61fdd",
   "metadata": {},
   "outputs": [
    {
     "data": {
      "text/html": [
       "<div>\n",
       "<style scoped>\n",
       "    .dataframe tbody tr th:only-of-type {\n",
       "        vertical-align: middle;\n",
       "    }\n",
       "\n",
       "    .dataframe tbody tr th {\n",
       "        vertical-align: top;\n",
       "    }\n",
       "\n",
       "    .dataframe thead th {\n",
       "        text-align: right;\n",
       "    }\n",
       "</style>\n",
       "<table border=\"1\" class=\"dataframe\">\n",
       "  <thead>\n",
       "    <tr style=\"text-align: right;\">\n",
       "      <th></th>\n",
       "      <th>fecha</th>\n",
       "      <th>departamento</th>\n",
       "      <th>provincia</th>\n",
       "      <th>clase</th>\n",
       "      <th>puestos</th>\n",
       "    </tr>\n",
       "  </thead>\n",
       "  <tbody>\n",
       "    <tr>\n",
       "      <th>0</th>\n",
       "      <td>2014-01-01</td>\n",
       "      <td>CABA</td>\n",
       "      <td>CABA</td>\n",
       "      <td>Agricultura, ganadería, caza y servicios relac...</td>\n",
       "      <td>5443</td>\n",
       "    </tr>\n",
       "    <tr>\n",
       "      <th>1</th>\n",
       "      <td>2014-01-01</td>\n",
       "      <td>CABA</td>\n",
       "      <td>CABA</td>\n",
       "      <td>Silvicultura y explotación forestal</td>\n",
       "      <td>119</td>\n",
       "    </tr>\n",
       "    <tr>\n",
       "      <th>2</th>\n",
       "      <td>2014-01-01</td>\n",
       "      <td>CABA</td>\n",
       "      <td>CABA</td>\n",
       "      <td>Pesca y acuicultura</td>\n",
       "      <td>581</td>\n",
       "    </tr>\n",
       "    <tr>\n",
       "      <th>3</th>\n",
       "      <td>2014-01-01</td>\n",
       "      <td>CABA</td>\n",
       "      <td>CABA</td>\n",
       "      <td>Extracción de carbón y lignito</td>\n",
       "      <td>24</td>\n",
       "    </tr>\n",
       "    <tr>\n",
       "      <th>4</th>\n",
       "      <td>2014-01-01</td>\n",
       "      <td>CABA</td>\n",
       "      <td>CABA</td>\n",
       "      <td>Extracción de petróleo crudo y gas natural</td>\n",
       "      <td>4145</td>\n",
       "    </tr>\n",
       "  </tbody>\n",
       "</table>\n",
       "</div>"
      ],
      "text/plain": [
       "        fecha departamento provincia  \\\n",
       "0  2014-01-01         CABA      CABA   \n",
       "1  2014-01-01         CABA      CABA   \n",
       "2  2014-01-01         CABA      CABA   \n",
       "3  2014-01-01         CABA      CABA   \n",
       "4  2014-01-01         CABA      CABA   \n",
       "\n",
       "                                               clase  puestos  \n",
       "0  Agricultura, ganadería, caza y servicios relac...     5443  \n",
       "1                Silvicultura y explotación forestal      119  \n",
       "2                                Pesca y acuicultura      581  \n",
       "3                     Extracción de carbón y lignito       24  \n",
       "4         Extracción de petróleo crudo y gas natural     4145  "
      ]
     },
     "execution_count": 55,
     "metadata": {},
     "output_type": "execute_result"
    }
   ],
   "source": [
    "data.head()"
   ]
  },
  {
   "cell_type": "code",
   "execution_count": 58,
   "id": "83516bb5-829f-4858-9a20-2e379ab10d43",
   "metadata": {},
   "outputs": [],
   "source": [
    "# cambiamos el campo fecha de str a datetime\n",
    "data[\"fecha\"] = data.fecha.apply(lambda x: datetime.strptime(x, '%Y-%m-%d').date())"
   ]
  },
  {
   "cell_type": "markdown",
   "id": "58d38b5b-975a-41af-8100-4b00cd60c00b",
   "metadata": {
    "tags": []
   },
   "source": [
    "# EDA"
   ]
  },
  {
   "cell_type": "code",
   "execution_count": 83,
   "id": "f8762bb6-8b3a-4862-89a7-41a1a32120c1",
   "metadata": {},
   "outputs": [],
   "source": [
    "fecha14 = datetime.strptime('2015-01-01', \"%Y-%m-%d\").date()\n",
    "data14 = data.loc[(data['fecha'] < fecha14)]"
   ]
  },
  {
   "cell_type": "code",
   "execution_count": 92,
   "id": "67d849de-cbac-4bdd-937c-9f73d3940798",
   "metadata": {
    "tags": []
   },
   "outputs": [
    {
     "name": "stderr",
     "output_type": "stream",
     "text": [
      "/tmp/ipykernel_5096/289792878.py:1: SettingWithCopyWarning: \n",
      "A value is trying to be set on a copy of a slice from a DataFrame.\n",
      "Try using .loc[row_indexer,col_indexer] = value instead\n",
      "\n",
      "See the caveats in the documentation: https://pandas.pydata.org/pandas-docs/stable/user_guide/indexing.html#returning-a-view-versus-a-copy\n",
      "  data14[\"puestos2\"] = data14.puestos.shift()\n"
     ]
    }
   ],
   "source": [
    "data14[\"puestos2\"] = data14.puestos.shift()"
   ]
  },
  {
   "cell_type": "code",
   "execution_count": 104,
   "id": "460d5f97-20b0-4c1c-9d28-a444548aed74",
   "metadata": {
    "tags": []
   },
   "outputs": [],
   "source": [
    "data14[\"delta\"] = data14.puestos - data14.puestos2 "
   ]
  },
  {
   "cell_type": "code",
   "execution_count": 100,
   "id": "9455338e-3b5e-4faa-8dde-932fe371da5a",
   "metadata": {},
   "outputs": [],
   "source": [
    "data14.fillna(0, inplace = True)"
   ]
  },
  {
   "cell_type": "code",
   "execution_count": 115,
   "id": "f2efb74a-0297-460b-979b-765dda0df1b4",
   "metadata": {},
   "outputs": [],
   "source": [
    "dfagrupado = data14.groupby(by=[\"fecha\",\"provincia\"]).sum().delta.reset_index()"
   ]
  },
  {
   "cell_type": "code",
   "execution_count": 116,
   "id": "ec263a2b-16e8-4ea8-be41-d7360f95b1dd",
   "metadata": {},
   "outputs": [
    {
     "data": {
      "text/html": [
       "<div>\n",
       "<style scoped>\n",
       "    .dataframe tbody tr th:only-of-type {\n",
       "        vertical-align: middle;\n",
       "    }\n",
       "\n",
       "    .dataframe tbody tr th {\n",
       "        vertical-align: top;\n",
       "    }\n",
       "\n",
       "    .dataframe thead th {\n",
       "        text-align: right;\n",
       "    }\n",
       "</style>\n",
       "<table border=\"1\" class=\"dataframe\">\n",
       "  <thead>\n",
       "    <tr style=\"text-align: right;\">\n",
       "      <th></th>\n",
       "      <th>fecha</th>\n",
       "      <th>provincia</th>\n",
       "      <th>delta</th>\n",
       "    </tr>\n",
       "  </thead>\n",
       "  <tbody>\n",
       "    <tr>\n",
       "      <th>0</th>\n",
       "      <td>2014-01-01</td>\n",
       "      <td>Buenos Aires</td>\n",
       "      <td>-479.0</td>\n",
       "    </tr>\n",
       "    <tr>\n",
       "      <th>1</th>\n",
       "      <td>2014-01-01</td>\n",
       "      <td>CABA</td>\n",
       "      <td>1793.0</td>\n",
       "    </tr>\n",
       "    <tr>\n",
       "      <th>2</th>\n",
       "      <td>2014-02-01</td>\n",
       "      <td>Buenos Aires</td>\n",
       "      <td>-514.0</td>\n",
       "    </tr>\n",
       "    <tr>\n",
       "      <th>3</th>\n",
       "      <td>2014-02-01</td>\n",
       "      <td>CABA</td>\n",
       "      <td>-113.0</td>\n",
       "    </tr>\n",
       "    <tr>\n",
       "      <th>4</th>\n",
       "      <td>2014-03-01</td>\n",
       "      <td>Buenos Aires</td>\n",
       "      <td>-318.0</td>\n",
       "    </tr>\n",
       "    <tr>\n",
       "      <th>5</th>\n",
       "      <td>2014-03-01</td>\n",
       "      <td>CABA</td>\n",
       "      <td>-35.0</td>\n",
       "    </tr>\n",
       "    <tr>\n",
       "      <th>6</th>\n",
       "      <td>2014-04-01</td>\n",
       "      <td>Buenos Aires</td>\n",
       "      <td>20.0</td>\n",
       "    </tr>\n",
       "    <tr>\n",
       "      <th>7</th>\n",
       "      <td>2014-04-01</td>\n",
       "      <td>CABA</td>\n",
       "      <td>-64.0</td>\n",
       "    </tr>\n",
       "    <tr>\n",
       "      <th>8</th>\n",
       "      <td>2014-05-01</td>\n",
       "      <td>Buenos Aires</td>\n",
       "      <td>-802.0</td>\n",
       "    </tr>\n",
       "    <tr>\n",
       "      <th>9</th>\n",
       "      <td>2014-05-01</td>\n",
       "      <td>CABA</td>\n",
       "      <td>-88.0</td>\n",
       "    </tr>\n",
       "    <tr>\n",
       "      <th>10</th>\n",
       "      <td>2014-06-01</td>\n",
       "      <td>Buenos Aires</td>\n",
       "      <td>411.0</td>\n",
       "    </tr>\n",
       "    <tr>\n",
       "      <th>11</th>\n",
       "      <td>2014-06-01</td>\n",
       "      <td>CABA</td>\n",
       "      <td>-56.0</td>\n",
       "    </tr>\n",
       "    <tr>\n",
       "      <th>12</th>\n",
       "      <td>2014-07-01</td>\n",
       "      <td>Buenos Aires</td>\n",
       "      <td>80.0</td>\n",
       "    </tr>\n",
       "    <tr>\n",
       "      <th>13</th>\n",
       "      <td>2014-07-01</td>\n",
       "      <td>CABA</td>\n",
       "      <td>-11.0</td>\n",
       "    </tr>\n",
       "    <tr>\n",
       "      <th>14</th>\n",
       "      <td>2014-08-01</td>\n",
       "      <td>Buenos Aires</td>\n",
       "      <td>548.0</td>\n",
       "    </tr>\n",
       "    <tr>\n",
       "      <th>15</th>\n",
       "      <td>2014-08-01</td>\n",
       "      <td>CABA</td>\n",
       "      <td>-15.0</td>\n",
       "    </tr>\n",
       "    <tr>\n",
       "      <th>16</th>\n",
       "      <td>2014-09-01</td>\n",
       "      <td>Buenos Aires</td>\n",
       "      <td>-336.0</td>\n",
       "    </tr>\n",
       "    <tr>\n",
       "      <th>17</th>\n",
       "      <td>2014-09-01</td>\n",
       "      <td>CABA</td>\n",
       "      <td>-24.0</td>\n",
       "    </tr>\n",
       "    <tr>\n",
       "      <th>18</th>\n",
       "      <td>2014-10-01</td>\n",
       "      <td>Buenos Aires</td>\n",
       "      <td>205.0</td>\n",
       "    </tr>\n",
       "    <tr>\n",
       "      <th>19</th>\n",
       "      <td>2014-10-01</td>\n",
       "      <td>CABA</td>\n",
       "      <td>-17.0</td>\n",
       "    </tr>\n",
       "    <tr>\n",
       "      <th>20</th>\n",
       "      <td>2014-11-01</td>\n",
       "      <td>Buenos Aires</td>\n",
       "      <td>-357.0</td>\n",
       "    </tr>\n",
       "    <tr>\n",
       "      <th>21</th>\n",
       "      <td>2014-11-01</td>\n",
       "      <td>CABA</td>\n",
       "      <td>-38.0</td>\n",
       "    </tr>\n",
       "    <tr>\n",
       "      <th>22</th>\n",
       "      <td>2014-12-01</td>\n",
       "      <td>Buenos Aires</td>\n",
       "      <td>235.0</td>\n",
       "    </tr>\n",
       "    <tr>\n",
       "      <th>23</th>\n",
       "      <td>2014-12-01</td>\n",
       "      <td>CABA</td>\n",
       "      <td>-21.0</td>\n",
       "    </tr>\n",
       "  </tbody>\n",
       "</table>\n",
       "</div>"
      ],
      "text/plain": [
       "         fecha     provincia   delta\n",
       "0   2014-01-01  Buenos Aires  -479.0\n",
       "1   2014-01-01          CABA  1793.0\n",
       "2   2014-02-01  Buenos Aires  -514.0\n",
       "3   2014-02-01          CABA  -113.0\n",
       "4   2014-03-01  Buenos Aires  -318.0\n",
       "5   2014-03-01          CABA   -35.0\n",
       "6   2014-04-01  Buenos Aires    20.0\n",
       "7   2014-04-01          CABA   -64.0\n",
       "8   2014-05-01  Buenos Aires  -802.0\n",
       "9   2014-05-01          CABA   -88.0\n",
       "10  2014-06-01  Buenos Aires   411.0\n",
       "11  2014-06-01          CABA   -56.0\n",
       "12  2014-07-01  Buenos Aires    80.0\n",
       "13  2014-07-01          CABA   -11.0\n",
       "14  2014-08-01  Buenos Aires   548.0\n",
       "15  2014-08-01          CABA   -15.0\n",
       "16  2014-09-01  Buenos Aires  -336.0\n",
       "17  2014-09-01          CABA   -24.0\n",
       "18  2014-10-01  Buenos Aires   205.0\n",
       "19  2014-10-01          CABA   -17.0\n",
       "20  2014-11-01  Buenos Aires  -357.0\n",
       "21  2014-11-01          CABA   -38.0\n",
       "22  2014-12-01  Buenos Aires   235.0\n",
       "23  2014-12-01          CABA   -21.0"
      ]
     },
     "execution_count": 116,
     "metadata": {},
     "output_type": "execute_result"
    }
   ],
   "source": [
    "dfagrupado"
   ]
  },
  {
   "cell_type": "code",
   "execution_count": 120,
   "id": "dea4dd76-f17f-4d96-97c9-3a9f0ac4558e",
   "metadata": {},
   "outputs": [
    {
     "data": {
      "text/html": [
       "<div>\n",
       "<style scoped>\n",
       "    .dataframe tbody tr th:only-of-type {\n",
       "        vertical-align: middle;\n",
       "    }\n",
       "\n",
       "    .dataframe tbody tr th {\n",
       "        vertical-align: top;\n",
       "    }\n",
       "\n",
       "    .dataframe thead th {\n",
       "        text-align: right;\n",
       "    }\n",
       "</style>\n",
       "<table border=\"1\" class=\"dataframe\">\n",
       "  <thead>\n",
       "    <tr style=\"text-align: right;\">\n",
       "      <th></th>\n",
       "      <th>fecha</th>\n",
       "      <th>provincia</th>\n",
       "      <th>puestos</th>\n",
       "    </tr>\n",
       "  </thead>\n",
       "  <tbody>\n",
       "    <tr>\n",
       "      <th>0</th>\n",
       "      <td>2014-01-01</td>\n",
       "      <td>CABA</td>\n",
       "      <td>1146412</td>\n",
       "    </tr>\n",
       "    <tr>\n",
       "      <th>1</th>\n",
       "      <td>2014-02-01</td>\n",
       "      <td>CABA</td>\n",
       "      <td>1147371</td>\n",
       "    </tr>\n",
       "    <tr>\n",
       "      <th>2</th>\n",
       "      <td>2014-03-01</td>\n",
       "      <td>CABA</td>\n",
       "      <td>1149616</td>\n",
       "    </tr>\n",
       "    <tr>\n",
       "      <th>3</th>\n",
       "      <td>2014-04-01</td>\n",
       "      <td>CABA</td>\n",
       "      <td>1148638</td>\n",
       "    </tr>\n",
       "    <tr>\n",
       "      <th>4</th>\n",
       "      <td>2014-05-01</td>\n",
       "      <td>CABA</td>\n",
       "      <td>1150599</td>\n",
       "    </tr>\n",
       "    <tr>\n",
       "      <th>...</th>\n",
       "      <td>...</td>\n",
       "      <td>...</td>\n",
       "      <td>...</td>\n",
       "    </tr>\n",
       "    <tr>\n",
       "      <th>103</th>\n",
       "      <td>2022-08-01</td>\n",
       "      <td>CABA</td>\n",
       "      <td>1158224</td>\n",
       "    </tr>\n",
       "    <tr>\n",
       "      <th>104</th>\n",
       "      <td>2022-09-01</td>\n",
       "      <td>CABA</td>\n",
       "      <td>1158977</td>\n",
       "    </tr>\n",
       "    <tr>\n",
       "      <th>105</th>\n",
       "      <td>2022-10-01</td>\n",
       "      <td>CABA</td>\n",
       "      <td>1160053</td>\n",
       "    </tr>\n",
       "    <tr>\n",
       "      <th>106</th>\n",
       "      <td>2022-11-01</td>\n",
       "      <td>CABA</td>\n",
       "      <td>1160201</td>\n",
       "    </tr>\n",
       "    <tr>\n",
       "      <th>107</th>\n",
       "      <td>2022-12-01</td>\n",
       "      <td>CABA</td>\n",
       "      <td>1157298</td>\n",
       "    </tr>\n",
       "  </tbody>\n",
       "</table>\n",
       "<p>108 rows × 3 columns</p>\n",
       "</div>"
      ],
      "text/plain": [
       "          fecha provincia  puestos\n",
       "0    2014-01-01      CABA  1146412\n",
       "1    2014-02-01      CABA  1147371\n",
       "2    2014-03-01      CABA  1149616\n",
       "3    2014-04-01      CABA  1148638\n",
       "4    2014-05-01      CABA  1150599\n",
       "..          ...       ...      ...\n",
       "103  2022-08-01      CABA  1158224\n",
       "104  2022-09-01      CABA  1158977\n",
       "105  2022-10-01      CABA  1160053\n",
       "106  2022-11-01      CABA  1160201\n",
       "107  2022-12-01      CABA  1157298\n",
       "\n",
       "[108 rows x 3 columns]"
      ]
     },
     "execution_count": 120,
     "metadata": {},
     "output_type": "execute_result"
    }
   ],
   "source": [
    "data.loc[data.provincia == \"CABA\"].groupby(by=[\"fecha\",\"provincia\"]).sum().reset_index()"
   ]
  },
  {
   "cell_type": "code",
   "execution_count": 117,
   "id": "fefd6817-5885-4931-9354-bd76e762c3a0",
   "metadata": {},
   "outputs": [
    {
     "data": {
      "text/plain": [
       "<BarContainer object of 12 artists>"
      ]
     },
     "execution_count": 117,
     "metadata": {},
     "output_type": "execute_result"
    },
    {
     "data": {
      "image/png": "[encoded data removed]",
      "text/plain": [
       "<Figure size 640x480 with 1 Axes>"
      ]
     },
     "metadata": {},
     "output_type": "display_data"
    }
   ],
   "source": [
    "plt.bar(dfagrupado.loc[dfagrupado.provincia == \"CABA\"].fecha, dfagrupado.loc[dfagrupado.provincia == \"CABA\"].delta)"
   ]
  },
  {
   "cell_type": "markdown",
   "id": "fbd8a31e-76e9-4feb-a062-5a4c875a355a",
   "metadata": {
    "jp-MarkdownHeadingCollapsed": true,
    "tags": []
   },
   "source": [
    "# Feature engineering"
   ]
  },
  {
   "cell_type": "code",
   "execution_count": null,
   "id": "4d68e15b-9433-4198-b2ae-7136b655a566",
   "metadata": {},
   "outputs": [],
   "source": []
  }
 ],
 "metadata": {
  "kernelspec": {
   "display_name": "NNM",
   "language": "python",
   "name": "nnm"
  },
  "language_info": {
   "codemirror_mode": {
    "name": "ipython",
    "version": 3
   },
   "file_extension": ".py",
   "mimetype": "text/x-python",
   "name": "python",
   "nbconvert_exporter": "python",
   "pygments_lexer": "ipython3",
   "version": "3.10.6"
  }
 },
 "nbformat": 4,
 "nbformat_minor": 5
}
